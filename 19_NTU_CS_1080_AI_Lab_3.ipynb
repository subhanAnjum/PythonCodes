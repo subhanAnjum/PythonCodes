{
 "cells": [
  {
   "cell_type": "markdown",
   "metadata": {},
   "source": [
    "19_NTU_CS_1080\n",
    "Subhan_Anjum\n",
    "Lab_3"
   ]
  },
  {
   "cell_type": "code",
   "execution_count": 1,
   "metadata": {},
   "outputs": [],
   "source": [
    "#task 1\n",
    "class Loan:\n",
    "    __annualInterestRate = float(2.5)\n",
    "    __numberOfYears = int(1)\n",
    "    __loanAmount = float(1000)\n",
    "    __borrower = \"Unknown\"\n",
    "    #getters\n",
    "    def getAnnualInterestRate(self):\n",
    "        return self.__annualInterestRate\n",
    "    def getNumberOfYears(self):\n",
    "        return self.__numberOfYears\n",
    "    def getLoanAmount(self):\n",
    "        return self.__loanAmount\n",
    "    def getBorrower(self):\n",
    "        return self.__borrower\n",
    "    def getMonthlyPayment(self):\n",
    "        monthlyInterestRate = self.__annualInterestRate / 1200\n",
    "        monthlyPayment = self.__loanAmount * monthlyInterestRate / (1-(1(1 + monthlyInterestRate)**(self.__numberOfYears * 12)))\n",
    "        return monthlyPayment\n",
    "    def getTotalPayment(self):\n",
    "        totalPayment = self.getMonthlyPayment() * self.__numberOfYears * 12\n",
    "        return totalPayment\n",
    "    #setters\n",
    "    def setAnnualInterestRate(self, annualInterestRate):\n",
    "        self.__annualInterestRate = annualInterestRate\n",
    "    def setNumberOfYears(self, numberOfYears):\n",
    "        self.__numberOfYears = numberOfYears\n",
    "    def setLoanAmount(self, loanAmount):\n",
    "        self.__loanAmount = loanAmount\n",
    "    def setBorrower(self, borrower):\n",
    "        self.__borrower = borrower\n",
    "\n"
   ]
  },
  {
   "cell_type": "code",
   "execution_count": null,
   "metadata": {},
   "outputs": [],
   "source": [
    "#task 2\n",
    "class BMI:\n",
    "    def __init__(self, name, age, weight, height):\n",
    "        self.__name = name\n",
    "        self.__age = age\n",
    "        self.__weight = weight\n",
    "        self.__height = height\n",
    "\n",
    "    def getBMI(self):\n",
    "        return self.__weight / self.__height**2\n",
    "    def getStatus(self):\n",
    "        bmi = self.getBMI()\n",
    "        if(bmi < 18.5):\n",
    "            return \"Underweight\"\n",
    "        elif(bmi >= 18.5 and bmi <= 24.9):\n",
    "            return \"Normal\"\n",
    "        elif(bmi >= 25 and bmi <= 29.9):\n",
    "            return \"Overweight\"\n",
    "        elif(bmi >= 30):\n",
    "            return \"Obese\"\n",
    "\n",
    "    def getName(self):\n",
    "        return self.__name\n",
    "    def getAge(self):\n",
    "        return self.__age\n",
    "    def getWeight(self):\n",
    "        return self.__weight\n",
    "    def getHeight(self):\n",
    "        return self.__height\n",
    "    \n",
    "\n"
   ]
  },
  {
   "cell_type": "markdown",
   "metadata": {},
   "source": [
    "\n"
   ]
  }
 ],
 "metadata": {
  "interpreter": {
   "hash": "9efce205f64ad363cd9f14615485aca38ee4ef0915866e318aa83c8d0c93f6fc"
  },
  "kernelspec": {
   "display_name": "Python 3.10.2 64-bit",
   "language": "python",
   "name": "python3"
  },
  "language_info": {
   "codemirror_mode": {
    "name": "ipython",
    "version": 3
   },
   "file_extension": ".py",
   "mimetype": "text/x-python",
   "name": "python",
   "nbconvert_exporter": "python",
   "pygments_lexer": "ipython3",
   "version": "3.10.2"
  },
  "orig_nbformat": 4
 },
 "nbformat": 4,
 "nbformat_minor": 2
}
