{
 "cells": [
  {
   "cell_type": "markdown",
   "metadata": {},
   "source": [
    "19_NTU_CS_1080\n",
    "Subhan_Anjum\n",
    "Lab_1"
   ]
  },
  {
   "cell_type": "code",
   "execution_count": 1,
   "metadata": {},
   "outputs": [
    {
     "name": "stdout",
     "output_type": "stream",
     "text": [
      "Value of y is:  7.0\n"
     ]
    }
   ],
   "source": [
    "#task_1\n",
    "a = float(input(\"Enter value of a: \"))\n",
    "x = float(input(\"Enter value of x: \"))\n",
    "print(\"Value of y is: \", a * x**3 + a * x**2 + x - 7)"
   ]
  },
  {
   "cell_type": "code",
   "execution_count": 4,
   "metadata": {},
   "outputs": [
    {
     "name": "stdout",
     "output_type": "stream",
     "text": [
      "Value in killometer is:  1.6095284081764043\n"
     ]
    }
   ],
   "source": [
    "#task 2\n",
    "value = float(input(\"Enter value in miles: \"))\n",
    "print(\"Value in killometer is: \", value * 1 / 0.6213)"
   ]
  },
  {
   "cell_type": "code",
   "execution_count": 5,
   "metadata": {},
   "outputs": [
    {
     "name": "stdout",
     "output_type": "stream",
     "text": [
      "Value in Australian Dollar is:  19.49317738791423\n",
      "Value in China Yuan is:  90.9090909090909\n",
      "Value in Euro is:  11.894142134998512\n",
      "Value in Qatari Riyal is:  47.393364928909946\n",
      "Value in Saudi Riyal is:  48.84004884004884\n",
      "Value in U.A.E Dirham is:  47.67580452920143\n",
      "Value in UK Pound Sterling is:  10.093363613424174\n",
      "Value in US Dollar is:  12.987012987012987\n"
     ]
    }
   ],
   "source": [
    "#task 3\n",
    "value = float(input(\"Enter value in Pak Rupees: \"))\n",
    "print(\"Value in Australian Dollar is: \", value / 102.6)\n",
    "print(\"Value in China Yuan is: \", value / 22)\n",
    "print(\"Value in Euro is: \", value / 168.15)\n",
    "print(\"Value in Qatari Riyal is: \", value / 42.2)\n",
    "print(\"Value in Saudi Riyal is: \", value / 40.95)\n",
    "print(\"Value in U.A.E Dirham is: \", value / 41.95)\n",
    "print(\"Value in UK Pound Sterling is: \", value / 198.15)\n",
    "print(\"Value in US Dollar is: \", value / 154)\n"
   ]
  },
  {
   "cell_type": "code",
   "execution_count": 4,
   "metadata": {},
   "outputs": [
    {
     "name": "stdout",
     "output_type": "stream",
     "text": [
      "First number is multiple of second number.\n"
     ]
    }
   ],
   "source": [
    "#task 9\n",
    "n1 = int(input(\"Enter first number: \"))\n",
    "n2 = int(input(\"Enter second number: \"))\n",
    "if(n2 != 0 and n1 % n2 == 0):\n",
    "    print(\"First number is multiple of second number.\")\n",
    "else:\n",
    "    print(\"First number is not multiple of second number.\")\n"
   ]
  },
  {
   "cell_type": "code",
   "execution_count": 15,
   "metadata": {},
   "outputs": [
    {
     "name": "stdout",
     "output_type": "stream",
     "text": [
      "Max number is:  45 \n",
      "Min number is:  2\n"
     ]
    }
   ],
   "source": [
    "#task 10\n",
    "data = []\n",
    "data.append(int(input(\"Enter first integer: \")))\n",
    "data.append(int(input(\"Enter second integer: \")))\n",
    "data.append(int(input(\"Enter third integer: \")))\n",
    "data.append(int(input(\"Enter fourth integer: \")))\n",
    "data.append(int(input(\"Enter fifth integer: \")))\n",
    "max = data[0]\n",
    "min = data[0]\n",
    "for num in data:\n",
    "    if(num > max):\n",
    "        max = num\n",
    "    elif(num < min):\n",
    "        min = num\n",
    "print(\"Max number is: \", max, \"\\nMin number is: \", min)\n"
   ]
  },
  {
   "cell_type": "code",
   "execution_count": 20,
   "metadata": {},
   "outputs": [
    {
     "name": "stdout",
     "output_type": "stream",
     "text": [
      "BMI Calculator\n",
      "Your BMI is:  16.0\n",
      "You are Underweight.\n"
     ]
    }
   ],
   "source": [
    "#task 11\n",
    "print(\"BMI Calculator\")\n",
    "weight = float(input(\"Enter your weight in KIlogram: \"))\n",
    "height = float(input(\"Enter your height in Meters: \"))\n",
    "bmi = weight / height**2\n",
    "print(\"Your BMI is: \", bmi)\n",
    "if(bmi < 18.5):\n",
    "    print(\"You are Underweight.\")\n",
    "elif(bmi >= 18.5 and bmi <= 24.9):\n",
    "    print(\"You are Normal.\")\n",
    "elif(bmi >= 25 and bmi <= 29.9):\n",
    "    print(\"You are Overweight.\")\n",
    "elif(bmi >= 30):\n",
    "    print(\"You are Obese.\")"
   ]
  },
  {
   "cell_type": "code",
   "execution_count": 21,
   "metadata": {},
   "outputs": [
    {
     "name": "stdout",
     "output_type": "stream",
     "text": [
      "Addition is:  15\n",
      "Multiplication is:  120\n"
     ]
    }
   ],
   "source": [
    "#task 12\n",
    "def Add(n1 = 0, n2 = 0, n3 = 0, n4 = 0, n5= 0):\n",
    "    print(\"Addition is: \", n1 + n2 + n3 + n4 + n5)\n",
    "def Multiply(n1 = 1, n2 = 1, n3 = 1, n4 = 1, n5= 1):\n",
    "    print(\"Multiplication is: \", n1 * n2 * n3 * n4 * n5)\n",
    "\n",
    "Add(1, 3, 2, 5, 4)\n",
    "Multiply(1, 3, 2, 5, 4)    "
   ]
  },
  {
   "cell_type": "code",
   "execution_count": 22,
   "metadata": {},
   "outputs": [
    {
     "name": "stdout",
     "output_type": "stream",
     "text": [
      "Average is:  7.0\n"
     ]
    }
   ],
   "source": [
    "#task 13\n",
    "def Average(n1 = 1, n2 = 1, n3 = 1, n4 = 1, n5= 1):\n",
    "    print(\"Average is: \", (n1 + n2 + n3 + n4 + n5) / 5)\n",
    "\n",
    "Average(5, 6, 7, 8, 9)"
   ]
  },
  {
   "cell_type": "code",
   "execution_count": 1,
   "metadata": {},
   "outputs": [
    {
     "name": "stdout",
     "output_type": "stream",
     "text": [
      "Largest Number is:  89 \n",
      "Smallest Number is:  -9\n"
     ]
    }
   ],
   "source": [
    "#task 14\n",
    "def LargestAndSmallest(data):\n",
    "    largest = data[0]\n",
    "    smallest = data[0]\n",
    "    for num in data:\n",
    "        if(num > largest):\n",
    "            largest = num\n",
    "        elif(num < smallest):\n",
    "            smallest = num\n",
    "    print(\"Largest Number is: \", largest, \"\\nSmallest Number is: \", smallest)\n",
    "\n",
    "LargestAndSmallest([5, 6, 89, 2, -9])"
   ]
  },
  {
   "cell_type": "code",
   "execution_count": 27,
   "metadata": {},
   "outputs": [
    {
     "name": "stdout",
     "output_type": "stream",
     "text": [
      "Area of Circle is:  78.53981633974483\n",
      "Circumference of circle is:  37.69911184307752\n"
     ]
    }
   ],
   "source": [
    "#task 15\n",
    "import math\n",
    "def AreaAndCircumference(r = 0, char = 'x'):\n",
    "    if(char == 'a'):\n",
    "        print(\"Area of Circle is: \", math.pi * r**2)\n",
    "    elif(char == 'c'):\n",
    "        print(\"Circumference of circle is: \", 2 * math.pi * r)\n",
    "    else:\n",
    "        print(\"Invalid Input.\")\n",
    "\n",
    "AreaAndCircumference(5, 'a')\n",
    "AreaAndCircumference(6, 'c')"
   ]
  },
  {
   "cell_type": "code",
   "execution_count": 32,
   "metadata": {},
   "outputs": [
    {
     "name": "stdout",
     "output_type": "stream",
     "text": [
      "Addition is:  3.0\n"
     ]
    }
   ],
   "source": [
    "#task 16\n",
    "def Addition(n1 = 0, n2 = 0):\n",
    "    print(\"Addition is: \", n1 + n2)\n",
    "def Subtraction(n1 = 0, n2 = 0):\n",
    "    print(\"Subtraction is: \", n1 - n2)\n",
    "def Multiplication(n1 = 1, n2 = 1):\n",
    "    print(\"Multiplication is: \", n1 * n2)\n",
    "def Division(n1 = 0, n2 = 1):\n",
    "    print(\"Division is: \", n1 / n2)\n",
    "\n",
    "num1 = float(input(\"Enter first number: \"))\n",
    "num2 = float(input(\"Enter second number: \"))\n",
    "\n",
    "selection = input(\"Enter operation you want to perform (+, -, *, /): \")\n",
    "if(selection == \"+\"):\n",
    "    Addition(num1, num2)\n",
    "elif(selection == \"-\"):\n",
    "    Subtraction(num1, num2)\n",
    "elif(selection == \"*\"):\n",
    "    Multiplication(num1, num2)\n",
    "elif(selection == \"/\"):\n",
    "    Division(num1, num2)\n",
    "else:\n",
    "    print(\"Invalid Operation.\")"
   ]
  },
  {
   "cell_type": "code",
   "execution_count": 4,
   "metadata": {},
   "outputs": [
    {
     "name": "stdout",
     "output_type": "stream",
     "text": [
      "15\n",
      "14\n",
      "13\n",
      "12\n",
      "11\n",
      "10\n",
      "9\n",
      "8\n",
      "7\n",
      "6\n",
      "5\n",
      "4\n",
      "3\n",
      "2\n",
      "1\n"
     ]
    }
   ],
   "source": [
    "#task 17\n",
    "def PrintReverse(num):\n",
    "    if(num != 0):\n",
    "        print(num)\n",
    "        num -= 1\n",
    "        PrintReverse(num)\n",
    "\n",
    "PrintReverse(int(input(\"Enter a Number: \")))"
   ]
  },
  {
   "cell_type": "code",
   "execution_count": 2,
   "metadata": {},
   "outputs": [
    {
     "name": "stdout",
     "output_type": "stream",
     "text": [
      "0\n",
      "2\n",
      "4\n",
      "6\n",
      "8\n",
      "10\n",
      "12\n",
      "14\n",
      "16\n",
      "18\n"
     ]
    }
   ],
   "source": [
    "#tak 18\n",
    "def PrintEven(num = 0,limit = 0):\n",
    "    if(num > limit):\n",
    "        return\n",
    "    print(num)\n",
    "    return PrintEven(num + 2, limit)\n",
    "\n",
    "startEven = 0\n",
    "PrintEven(startEven, int(input(\"Enter a number: \")))"
   ]
  },
  {
   "cell_type": "code",
   "execution_count": 4,
   "metadata": {},
   "outputs": [
    {
     "name": "stdout",
     "output_type": "stream",
     "text": [
      "5040\n"
     ]
    }
   ],
   "source": [
    "#task 19\n",
    "def Fact(num):\n",
    "    if (num == 1 or num == 0):\n",
    "        return 1\n",
    "    else:\n",
    "        return (num * Fact(num-1))\n",
    "\n",
    "print(Fact(7))"
   ]
  },
  {
   "cell_type": "code",
   "execution_count": 8,
   "metadata": {},
   "outputs": [
    {
     "name": "stdout",
     "output_type": "stream",
     "text": [
      "21\n"
     ]
    }
   ],
   "source": [
    "#task 20\n",
    "def Fibonacci(num, secondLast = 0, last = 1):\n",
    "    if num - 1 == 0:\n",
    "        return secondLast\n",
    "    else:\n",
    "        newLast = secondLast + last\n",
    "        secondLast = last\n",
    "        return Fibonacci(num - 1, secondLast, newLast)\n",
    "\n",
    "\n",
    "print(Fibonacci(int(input(\"Enter index of Fibonacci series whose value you want: \")), 0 ,1))\n"
   ]
  },
  {
   "cell_type": "code",
   "execution_count": 10,
   "metadata": {},
   "outputs": [
    {
     "name": "stdout",
     "output_type": "stream",
     "text": [
      "Fibonacci Series: \n",
      "0\n",
      "1\n",
      "1\n",
      "2\n",
      "3\n",
      "5\n",
      "8\n",
      "13\n",
      "21\n",
      "34\n"
     ]
    }
   ],
   "source": [
    "#task 21\n",
    "def FibonacciSeries(num):\n",
    "    if num <= 1:\n",
    "        return num\n",
    "    else:\n",
    "        return(FibonacciSeries(num - 1) + FibonacciSeries(num - 2))\n",
    "\n",
    "maxIndex = int(input(\"Enter Max Index of desired Fibonacci Series: \"))\n",
    "if maxIndex <= 0:\n",
    "    print(\"Enter positive Number only.\")\n",
    "else:\n",
    "    print(\"Fibonacci Series: \")\n",
    "    for i in range(maxIndex):\n",
    "        print(FibonacciSeries(i))"
   ]
  },
  {
   "cell_type": "markdown",
   "metadata": {},
   "source": [
    "END"
   ]
  }
 ],
 "metadata": {
  "interpreter": {
   "hash": "9efce205f64ad363cd9f14615485aca38ee4ef0915866e318aa83c8d0c93f6fc"
  },
  "kernelspec": {
   "display_name": "Python 3.10.2 64-bit",
   "language": "python",
   "name": "python3"
  },
  "language_info": {
   "codemirror_mode": {
    "name": "ipython",
    "version": 3
   },
   "file_extension": ".py",
   "mimetype": "text/x-python",
   "name": "python",
   "nbconvert_exporter": "python",
   "pygments_lexer": "ipython3",
   "version": "3.10.2"
  },
  "orig_nbformat": 4
 },
 "nbformat": 4,
 "nbformat_minor": 2
}
