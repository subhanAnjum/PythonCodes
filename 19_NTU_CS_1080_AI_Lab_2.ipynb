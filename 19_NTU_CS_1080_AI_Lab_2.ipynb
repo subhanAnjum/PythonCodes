{
 "cells": [
  {
   "cell_type": "markdown",
   "metadata": {},
   "source": [
    "19_NTU_CS_1080\n",
    "Subhan_Anjum\n",
    "Lab_1"
   ]
  },
  {
   "cell_type": "code",
   "execution_count": 3,
   "metadata": {},
   "outputs": [
    {
     "name": "stdout",
     "output_type": "stream",
     "text": [
      "Factorial of  7  is:  5040\n"
     ]
    }
   ],
   "source": [
    "#task 4\n",
    "number = int(input(\"Enter number:\"))\n",
    "i = sum = 1\n",
    "num = number\n",
    "if(num != 0 or num != 1):\n",
    "    while(i <= num ):\n",
    "        sum *= num\n",
    "        num -= 1\n",
    "else:\n",
    "    sum = 1\n",
    "print(\"Factorial of \", number, \" is: \", sum)"
   ]
  },
  {
   "cell_type": "code",
   "execution_count": 3,
   "metadata": {},
   "outputs": [
    {
     "name": "stdout",
     "output_type": "stream",
     "text": [
      "Entered Number is:  7238975\n",
      "Reversed Number is:  5798327\n"
     ]
    }
   ],
   "source": [
    "#task 5\n",
    "num = int(input(\"Enter 5 digit number: \"))\n",
    "print(\"Entered Number is: \", num)\n",
    "i = 0\n",
    "reversedNum = 0\n",
    "while num != 0:\n",
    "    digit = num % 10\n",
    "    reversedNum = reversedNum * 10 + digit\n",
    "    num //= 10\n",
    "print(\"Reversed Number is: \", reversedNum)"
   ]
  },
  {
   "cell_type": "code",
   "execution_count": 9,
   "metadata": {},
   "outputs": [
    {
     "name": "stdout",
     "output_type": "stream",
     "text": [
      "Enter Positive Numbers only.\n",
      "Largest Number is:  -9 \n",
      "Smallest Number is:  -9\n"
     ]
    }
   ],
   "source": [
    "#task 6\n",
    "num = []\n",
    "index = int(input(\"Enter number of entries you want to enter: \"))\n",
    "while index > 0:\n",
    "    val = int(input(\"Enter Positive Number(-1 to End): \"))\n",
    "    num.append(val)\n",
    "    if(val < -1): #validity check\n",
    "        print(\"Enter Positive Numbers only.\")\n",
    "        index -= 1\n",
    "        break\n",
    "    else:\n",
    "        index -= 1\n",
    "        continue\n",
    "#finding largest and smallest\n",
    "largest = num[0]\n",
    "smallest = num[0]\n",
    "for data in num:\n",
    "    if(data > largest):\n",
    "        largest = data\n",
    "    elif(data < smallest):\n",
    "        smallest = data\n",
    "print(\"Largest Number is: \", largest, \"\\nSmallest Number is: \", smallest)\n",
    "\n",
    "        "
   ]
  },
  {
   "cell_type": "code",
   "execution_count": 16,
   "metadata": {},
   "outputs": [
    {
     "name": "stdout",
     "output_type": "stream",
     "text": [
      "GCD of  60  and  48  is:  12\n"
     ]
    }
   ],
   "source": [
    "#task 7\n",
    "def GCD(num1, num2):\n",
    "    #select small number as range in loop\n",
    "    if num1 > num2:\n",
    "        small = num2\n",
    "    else:\n",
    "        small = num1\n",
    "    for i in range(1, small + 1):\n",
    "        if((num1 % i == 0) and (num2 % i == 0)): #gcd for both numbers\n",
    "            gcd = i\n",
    "    return gcd\n",
    "\n",
    "n1 = int(input(\"Enter First Number: \"))\n",
    "n2 = int(input(\"Enter Second Number: \"))\n",
    "\n",
    "print(\"GCD of \", n1, \" and \", n2, \" is: \", GCD(n1, n2))"
   ]
  },
  {
   "cell_type": "code",
   "execution_count": 26,
   "metadata": {},
   "outputs": [
    {
     "name": "stdout",
     "output_type": "stream",
     "text": [
      "57  is not a prime number.\n"
     ]
    }
   ],
   "source": [
    "#task 8\n",
    "def CheckPrime(num):\n",
    "    divisions = 0\n",
    "    for i in range(1, num + 1):\n",
    "        if num % i == 0:\n",
    "            divisions += 1\n",
    "        else:\n",
    "            continue\n",
    "    if(divisions > 2): \n",
    "        print(num,\" is not a prime number.\")\n",
    "    elif divisions == 2: #only prime number if divided by 1 and itself\n",
    "        print(num,\" is a prime number.\")\n",
    "    else:\n",
    "        print(\"Invalid Input\")\n",
    "\n",
    "CheckPrime(int(input(\"Enter a number: \")))\n"
   ]
  },
  {
   "cell_type": "code",
   "execution_count": 3,
   "metadata": {},
   "outputs": [
    {
     "name": "stdout",
     "output_type": "stream",
     "text": [
      "      1\n",
      "     212\n",
      "    32123\n",
      "   4321234\n",
      "  543212345\n",
      " 65432123456\n"
     ]
    }
   ],
   "source": [
    "#task 12\n",
    "\n",
    "def showPyramid(num):\n",
    "\n",
    "    space = \" \"\n",
    "\n",
    "    for i in range(1, num+1):\n",
    "        for num_of_spaces in range(i+1, 1, -num):\n",
    "            x = (i-1)\n",
    "            spaces = space*(num-x)\n",
    "            print(spaces, end=\"\")\n",
    "        for invRec in range(i, 1, -1):\n",
    "            print(invRec, end=\"\")\n",
    "        for rec in range(1, i+1):\n",
    "            print(rec, end=\"\")\n",
    "        print(\"\")\n",
    "\n",
    "num = int(input(\"Enter a number between 1 and 15: \"))\n",
    "if(num >= 1 and num <= 15):\n",
    "    showPyramid(num)\n",
    "else:\n",
    "    print(\"Invalid Input\")\n"
   ]
  },
  {
   "cell_type": "code",
   "execution_count": 10,
   "metadata": {},
   "outputs": [
    {
     "name": "stdout",
     "output_type": "stream",
     "text": [
      "Pattern A: \n",
      "1  \n",
      "1  2  \n",
      "1  2  3  \n",
      "1  2  3  4  \n",
      "1  2  3  4  5  \n",
      "1  2  3  4  5  6  \n",
      "\n",
      "Pattern B: \n",
      "1  2  3  4  5  6  \n",
      "1  2  3  4  5  \n",
      "1  2  3  4  \n",
      "1  2  3  \n",
      "1  2  \n",
      "1  \n",
      "\n",
      "Pattern D: \n",
      "1  2  3  4  5  6  7  \n",
      "1  2  3  4  5  6  \n",
      "1  2  3  4  5  \n",
      "1  2  3  4  \n",
      "1  2  3  \n",
      "1  2  \n",
      "1  \n"
     ]
    }
   ],
   "source": [
    "#task 13\n",
    "def PatternA(rows):\n",
    "    print(\"Pattern A: \")\n",
    "    for row in range(1, rows + 1):\n",
    "        for colum in range(1, row +1):\n",
    "            print(colum, \" \", end=\"\")\n",
    "        print(\"\")\n",
    "\n",
    "def PatternB(rows):\n",
    "    print(\"Pattern B: \")\n",
    "    for row in range(rows + 1, 1, -1):\n",
    "        for colum in range(1, row):\n",
    "            print(colum, \" \", end=\"\")\n",
    "        print(\"\")\n",
    "\n",
    "def PatternC(rows):\n",
    "    print(\"Pattern C: \")\n",
    "    for row in range(rows, 0, -1):\n",
    "        for space in range(1, row):\n",
    "            print(\"  \", end=\"\")\n",
    "        for colum in range(1, row +1):\n",
    "            print(colum, \" \", end=\"\")\n",
    "        print(\"\")\n",
    "\n",
    "def PatternD(rows):\n",
    "    print(\"Pattern D: \")\n",
    "    for row in range(rows + 1, 1, -1):\n",
    "        for colum in range(1, row):\n",
    "            print(colum, \" \", end=\"\")\n",
    "        print(\"\")\n",
    "\n",
    "\n",
    "PatternA(6)\n",
    "print(\"\")\n",
    "PatternB(6)\n",
    "print(\"\")\n",
    "#PatternC(6)\n",
    "PatternD(7)"
   ]
  },
  {
   "cell_type": "code",
   "execution_count": 5,
   "metadata": {},
   "outputs": [
    {
     "name": "stdout",
     "output_type": "stream",
     "text": [
      "ISBN:  101\n",
      "Title:  Book\n",
      "Price:  500\n",
      "Main Area:  This is main area of book.\n",
      "Sub Area:  Sub area of book\n",
      "No. of Pages:  400\n",
      "\n",
      "\n",
      "ISBN:  <class 'int'>\n",
      "Title:  <class 'str'>\n",
      "Price:  <class 'float'>\n",
      "Main Area:  <class 'str'>\n",
      "Sub Area:  <class 'str'>\n",
      "No. of Pages:  <class 'int'>\n"
     ]
    }
   ],
   "source": [
    "#task 14\n",
    "class Book:\n",
    "    ISBN = int\n",
    "    Title = str\n",
    "    Price = float\n",
    "    MainArea = str\n",
    "    SubArea = str\n",
    "    NumOfPages = int\n",
    "\n",
    "    def __init__(self):\n",
    "        self.ISBN = 0\n",
    "        self.Title = \"\"\n",
    "        self.Price = 0\n",
    "        self.MainArea = \"\"\n",
    "        self.SubArea = \"\"\n",
    "        self.NumOfPages = 0\n",
    "    \n",
    "    def __init__(self, bookNum = int, title = str, price = float, main_area = str, sub_area = str, numberOfPages = int):\n",
    "        self.ISBN = bookNum\n",
    "        self.Title = title\n",
    "        self.Price = price\n",
    "        self.MainArea = main_area\n",
    "        self.SubArea = sub_area\n",
    "        self.NumOfPages = numberOfPages\n",
    "\n",
    "    def Show(self):\n",
    "        print(\"ISBN: \", self.ISBN)\n",
    "        print(\"Title: \", self.Title)\n",
    "        print(\"Price: \", self.Price)\n",
    "        print(\"Main Area: \", self.MainArea)\n",
    "        print(\"Sub Area: \", self.SubArea)\n",
    "        print(\"No. of Pages: \", self.NumOfPages)\n",
    "\n",
    "\n",
    "\n",
    "book1 = Book(101,\"Book\", 500, \"This is main area of book.\", \"Sub area of book\", 400)\n",
    "book2 = Book()\n",
    "book1.Show()\n",
    "print(\"\\n\")\n",
    "book2.Show()"
   ]
  },
  {
   "cell_type": "code",
   "execution_count": 8,
   "metadata": {},
   "outputs": [
    {
     "name": "stdout",
     "output_type": "stream",
     "text": [
      "Brand Name of Computer is:  DELL\n",
      "Speed of Computer is(Instruction/second):  7487849174\n",
      "Memory size of Computer is(GigaByte):  16\n",
      "\n",
      "Brand Name of Computer is:  <class 'str'>\n",
      "Speed of Computer is(Instruction/second):  <class 'int'>\n",
      "Memory size of Computer is(GigaByte):  <class 'int'>\n"
     ]
    }
   ],
   "source": [
    "#task 15\n",
    "class Computer:\n",
    "    brandName = str\n",
    "    speed = int\n",
    "    MemorySize = int\n",
    "\n",
    "    def __init__(self):\n",
    "        self.brandName = \"\"\n",
    "        self.speed = 0\n",
    "        self.MemorySize = 0\n",
    "\n",
    "    def __init__(self, Brand = str, Speed = int, MemorySize = int):\n",
    "        self.brandName = Brand\n",
    "        self.speed = Speed\n",
    "        self.MemorySize = MemorySize\n",
    "\n",
    "    def Show(self):\n",
    "        print(\"Brand Name of Computer is: \", self.brandName)\n",
    "        print(\"Speed of Computer is(Instruction/second): \", self.speed)\n",
    "        print(\"Memory size of Computer is(GigaByte): \", self.MemorySize)\n",
    "\n",
    "pc = Computer(\"DELL\", 7487849174, 16)\n",
    "pc1 = Computer()\n",
    "\n",
    "pc.Show()\n",
    "print(\"\")\n",
    "pc1.Show()\n",
    "\n"
   ]
  },
  {
   "cell_type": "code",
   "execution_count": null,
   "metadata": {},
   "outputs": [],
   "source": []
  }
 ],
 "metadata": {
  "interpreter": {
   "hash": "9efce205f64ad363cd9f14615485aca38ee4ef0915866e318aa83c8d0c93f6fc"
  },
  "kernelspec": {
   "display_name": "Python 3.10.2 64-bit",
   "language": "python",
   "name": "python3"
  },
  "language_info": {
   "codemirror_mode": {
    "name": "ipython",
    "version": 3
   },
   "file_extension": ".py",
   "mimetype": "text/x-python",
   "name": "python",
   "nbconvert_exporter": "python",
   "pygments_lexer": "ipython3",
   "version": "3.10.2"
  },
  "orig_nbformat": 4
 },
 "nbformat": 4,
 "nbformat_minor": 2
}
